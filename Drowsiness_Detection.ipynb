{
  "cells": [
    {
      "cell_type": "markdown",
      "metadata": {
        "id": "Xevist-2H1vL"
      },
      "source": [
        "*Load Drive*"
      ]
    },
    {
      "cell_type": "code",
      "execution_count": null,
      "metadata": {
        "colab": {
          "base_uri": "https://localhost:8080/"
        },
        "id": "oPuEcYenHvsQ",
        "outputId": "2cbb2a38-1441-4593-97f9-cc9aec30d3f2"
      },
      "outputs": [
        {
          "output_type": "stream",
          "name": "stdout",
          "text": [
            "Drive already mounted at /content/drive; to attempt to forcibly remount, call drive.mount(\"/content/drive\", force_remount=True).\n"
          ]
        }
      ],
      "source": [
        "from google.colab import drive\n",
        "drive.mount('/content/drive')"
      ]
    },
    {
      "cell_type": "markdown",
      "metadata": {
        "id": "Uy46w-utIYeE"
      },
      "source": [
        "*Import Libraries*"
      ]
    },
    {
      "cell_type": "code",
      "execution_count": null,
      "metadata": {
        "id": "Sj7iGViWIgBM"
      },
      "outputs": [],
      "source": [
        "import os\n",
        "import glob\n",
        "import tensorflow as tf\n",
        "import matplotlib.pyplot as plt\n",
        "import numpy as np# Keras API\n",
        "import keras\n",
        "from keras.models import Sequential\n",
        "from sklearn.model_selection import GridSearchCV\n",
        "from keras.layers import Dense,Dropout,Flatten\n",
        "from keras.layers import Conv2D,MaxPooling2D,Activation,AveragePooling2D,BatchNormalization\n",
        "from keras.preprocessing.image import ImageDataGenerator"
      ]
    },
    {
      "cell_type": "markdown",
      "metadata": {
        "id": "OgijWb8DIw7u"
      },
      "source": [
        "*Load Training and Testing Set*"
      ]
    },
    {
      "cell_type": "code",
      "execution_count": null,
      "metadata": {
        "id": "ZJUY-eyEI5XB"
      },
      "outputs": [],
      "source": [
        "train_path = '/content/drive/MyDrive/Colab Notebooks/train_drowsy'\n",
        "test_path = '/content/drive/MyDrive/Colab Notebooks/test_drowsy'\n",
        "val_path = '/content/drive/MyDrive/Colab Notebooks/test_drowsy'"
      ]
    },
    {
      "cell_type": "markdown",
      "metadata": {
        "id": "abyhVKpQJjYY"
      },
      "source": [
        "*Count number of training and testing Images*"
      ]
    },
    {
      "cell_type": "code",
      "execution_count": null,
      "metadata": {
        "id": "jzpcptVfJvu6"
      },
      "outputs": [],
      "source": [
        "def get_files(directory):\n",
        "  if not os.path.exists(directory):\n",
        "    return 0\n",
        "  count=0\n",
        "\n",
        "  for current_path,dirs,files in os.walk(directory):\n",
        "    for dr in dirs:\n",
        "      count+= len(glob.glob(os.path.join(current_path,dr+\"/*\")))\n",
        "  return count"
      ]
    },
    {
      "cell_type": "markdown",
      "metadata": {
        "id": "30maTBu1J2I9"
      },
      "source": [
        "*Display the number*"
      ]
    },
    {
      "cell_type": "code",
      "execution_count": null,
      "metadata": {
        "colab": {
          "base_uri": "https://localhost:8080/"
        },
        "id": "YQrUwDMoKB5u",
        "outputId": "0283812e-a986-4924-e525-a8e0f0414798"
      },
      "outputs": [
        {
          "output_type": "stream",
          "name": "stdout",
          "text": [
            "Number of classes is 2\n",
            "Number of training samples is 2420\n",
            "Number of testing samples is 610\n",
            "Number of validation samples is 610\n"
          ]
        }
      ],
      "source": [
        "train_samples = get_files(train_path)\n",
        "num_classes = len(glob.glob(train_path+\"/*\"))\n",
        "test_samples = get_files(test_path)\n",
        "val_samples = get_files(val_path)\n",
        "\n",
        "print(\"Number of classes is\", num_classes)\n",
        "print(\"Number of training samples is\", train_samples)\n",
        "print(\"Number of testing samples is\", test_samples)\n",
        "print(\"Number of validation samples is\", val_samples)"
      ]
    },
    {
      "cell_type": "markdown",
      "metadata": {
        "id": "NdRm2Uq9K2tv"
      },
      "source": [
        "*Image Augmentation*"
      ]
    },
    {
      "cell_type": "code",
      "execution_count": null,
      "metadata": {
        "id": "RtDMspxLK8WB"
      },
      "outputs": [],
      "source": [
        "train_datagen = ImageDataGenerator(rescale=1./255,\n",
        "                                   shear_range=0.2,\n",
        "                                   zoom_range=0.2,\n",
        "                                   horizontal_flip=True)\n",
        "\n",
        "test_datagen = ImageDataGenerator(rescale=1./255)\n",
        "\n",
        "val_datagen = ImageDataGenerator(rescale=1./255)"
      ]
    },
    {
      "cell_type": "code",
      "execution_count": null,
      "metadata": {
        "colab": {
          "base_uri": "https://localhost:8080/"
        },
        "id": "tYp186pILOmO",
        "outputId": "abc68a59-b047-4acb-fc1d-a9f9423345ba"
      },
      "outputs": [
        {
          "output_type": "stream",
          "name": "stdout",
          "text": [
            "Found 2420 images belonging to 2 classes.\n",
            "Found 610 images belonging to 2 classes.\n",
            "Found 610 images belonging to 2 classes.\n"
          ]
        }
      ],
      "source": [
        "img_width, img_height = 50, 50\n",
        "\n",
        "input_shape = (img_width, img_height, 3)\n",
        "\n",
        "batch_size = 32\n",
        "\n",
        "train_generator = train_datagen.flow_from_directory(train_path,\n",
        "                                                   target_size = (img_width, img_height),\n",
        "                                                   batch_size = batch_size)\n",
        "\n",
        "test_generator = test_datagen.flow_from_directory(test_path,\n",
        "                                                  shuffle = False,\n",
        "                                                  target_size = (img_width, img_height),\n",
        "                                                  batch_size = batch_size)\n",
        "\n",
        "val_generator = val_datagen.flow_from_directory(val_path,\n",
        "                                                shuffle = False,\n",
        "                                                target_size = (img_width, img_height),\n",
        "                                                batch_size = batch_size)\n",
        "# Get x_train and y_train\n",
        "x_train, y_train = train_generator.next()\n",
        "\n",
        "# Get x_test and y_test\n",
        "x_test, y_test = test_generator.next()\n",
        "\n",
        "# Get x_val and y_val\n",
        "x_val, y_val = val_generator.next()"
      ]
    },
    {
      "cell_type": "markdown",
      "metadata": {
        "id": "q3D5-kEcMCD9"
      },
      "source": [
        "*Get Class Index*"
      ]
    },
    {
      "cell_type": "code",
      "execution_count": null,
      "metadata": {
        "colab": {
          "base_uri": "https://localhost:8080/"
        },
        "id": "TiKiQc57MFjY",
        "outputId": "ff483c1e-84f5-4e95-96aa-4d4fa01b95f5"
      },
      "outputs": [
        {
          "output_type": "execute_result",
          "data": {
            "text/plain": [
              "{'Drowsy': 0, 'Not Drowsy': 1}"
            ]
          },
          "metadata": {},
          "execution_count": 15
        }
      ],
      "source": [
        "train_generator.class_indices"
      ]
    },
    {
      "cell_type": "markdown",
      "metadata": {
        "id": "ojMiqSyfMORG"
      },
      "source": [
        "*Build CNN Parameters*"
      ]
    },
    {
      "cell_type": "code",
      "execution_count": null,
      "metadata": {
        "colab": {
          "base_uri": "https://localhost:8080/"
        },
        "id": "5_PL2yzNMTQ7",
        "outputId": "081d4dd1-f4e8-4a75-ea9f-467d1f1dc9b8"
      },
      "outputs": [
        {
          "output_type": "stream",
          "name": "stdout",
          "text": [
            "Model: \"sequential\"\n",
            "_________________________________________________________________\n",
            " Layer (type)                Output Shape              Param #   \n",
            "=================================================================\n",
            " conv2d (Conv2D)             (None, 46, 46, 32)        2432      \n",
            "                                                                 \n",
            " max_pooling2d (MaxPooling2  (None, 15, 15, 32)        0         \n",
            " D)                                                              \n",
            "                                                                 \n",
            " conv2d_1 (Conv2D)           (None, 13, 13, 32)        9248      \n",
            "                                                                 \n",
            " max_pooling2d_1 (MaxPoolin  (None, 6, 6, 32)          0         \n",
            " g2D)                                                            \n",
            "                                                                 \n",
            " conv2d_2 (Conv2D)           (None, 4, 4, 64)          18496     \n",
            "                                                                 \n",
            " max_pooling2d_2 (MaxPoolin  (None, 2, 2, 64)          0         \n",
            " g2D)                                                            \n",
            "                                                                 \n",
            " flatten (Flatten)           (None, 256)               0         \n",
            "                                                                 \n",
            " dense (Dense)               (None, 512)               131584    \n",
            "                                                                 \n",
            " dropout (Dropout)           (None, 512)               0         \n",
            "                                                                 \n",
            " dense_1 (Dense)             (None, 128)               65664     \n",
            "                                                                 \n",
            " dense_2 (Dense)             (None, 2)                 258       \n",
            "                                                                 \n",
            "=================================================================\n",
            "Total params: 227682 (889.38 KB)\n",
            "Trainable params: 227682 (889.38 KB)\n",
            "Non-trainable params: 0 (0.00 Byte)\n",
            "_________________________________________________________________\n"
          ]
        }
      ],
      "source": [
        "model = Sequential()\n",
        "model.add(Conv2D(32, (5, 5),input_shape=input_shape,activation='relu'))\n",
        "model.add(MaxPooling2D(pool_size=(3, 3)))\n",
        "model.add(Conv2D(32, (3, 3),activation='relu'))\n",
        "model.add(MaxPooling2D(pool_size=(2, 2)))\n",
        "model.add(Conv2D(64, (3, 3),activation='relu'))\n",
        "model.add(MaxPooling2D(pool_size=(2, 2)))\n",
        "model.add(Flatten())\n",
        "model.add(Dense(512,activation='relu'))\n",
        "model.add(Dropout(0.25))\n",
        "model.add(Dense(128,activation='relu'))\n",
        "model.add(Dense(num_classes,activation='softmax'))\n",
        "model.summary()"
      ]
    },
    {
      "cell_type": "markdown",
      "metadata": {
        "id": "XXmbCgAAMizd"
      },
      "source": [
        "*Build Model*"
      ]
    },
    {
      "cell_type": "code",
      "execution_count": null,
      "metadata": {
        "colab": {
          "base_uri": "https://localhost:8080/"
        },
        "id": "gxJgGE_7Mlmm",
        "outputId": "c547d29f-6b85-444b-f3c0-9cd3b52b8cc0"
      },
      "outputs": [
        {
          "output_type": "stream",
          "name": "stdout",
          "text": [
            "Epoch 1/50\n",
            "76/76 [==============================] - 1416s 19s/step - loss: 0.4918 - accuracy: 0.7686 - val_loss: 0.4381 - val_accuracy: 0.8164\n",
            "Epoch 2/50\n",
            " 1/76 [..............................] - ETA: 7s - loss: 0.2544 - accuracy: 0.8750"
          ]
        },
        {
          "output_type": "stream",
          "name": "stderr",
          "text": [
            "/usr/local/lib/python3.10/dist-packages/keras/src/engine/training.py:3103: UserWarning: You are saving your model as an HDF5 file via `model.save()`. This file format is considered legacy. We recommend using instead the native Keras format, e.g. `model.save('my_model.keras')`.\n",
            "  saving_api.save_model(\n"
          ]
        },
        {
          "output_type": "stream",
          "name": "stdout",
          "text": [
            "76/76 [==============================] - 8s 110ms/step - loss: 0.2829 - accuracy: 0.8946 - val_loss: 0.3308 - val_accuracy: 0.8770\n",
            "Epoch 3/50\n",
            "76/76 [==============================] - 8s 104ms/step - loss: 0.2391 - accuracy: 0.9045 - val_loss: 0.2486 - val_accuracy: 0.9049\n",
            "Epoch 4/50\n",
            "76/76 [==============================] - 9s 113ms/step - loss: 0.1933 - accuracy: 0.9343 - val_loss: 0.1949 - val_accuracy: 0.9230\n",
            "Epoch 5/50\n",
            "76/76 [==============================] - 7s 98ms/step - loss: 0.1817 - accuracy: 0.9364 - val_loss: 0.2166 - val_accuracy: 0.9098\n",
            "Epoch 6/50\n",
            "76/76 [==============================] - 9s 112ms/step - loss: 0.1473 - accuracy: 0.9500 - val_loss: 0.1462 - val_accuracy: 0.9344\n",
            "Epoch 7/50\n",
            "76/76 [==============================] - 8s 110ms/step - loss: 0.1455 - accuracy: 0.9455 - val_loss: 0.1295 - val_accuracy: 0.9492\n",
            "Epoch 8/50\n",
            "76/76 [==============================] - 8s 99ms/step - loss: 0.1358 - accuracy: 0.9529 - val_loss: 0.1655 - val_accuracy: 0.9344\n",
            "Epoch 9/50\n",
            "76/76 [==============================] - 8s 112ms/step - loss: 0.1142 - accuracy: 0.9628 - val_loss: 0.1189 - val_accuracy: 0.9459\n",
            "Epoch 10/50\n",
            "76/76 [==============================] - 8s 100ms/step - loss: 0.0988 - accuracy: 0.9661 - val_loss: 0.0860 - val_accuracy: 0.9672\n",
            "Epoch 11/50\n",
            "76/76 [==============================] - 9s 114ms/step - loss: 0.0994 - accuracy: 0.9628 - val_loss: 0.0861 - val_accuracy: 0.9656\n",
            "Epoch 12/50\n",
            "76/76 [==============================] - 8s 100ms/step - loss: 0.0903 - accuracy: 0.9628 - val_loss: 0.1274 - val_accuracy: 0.9475\n",
            "Epoch 13/50\n",
            "76/76 [==============================] - 7s 97ms/step - loss: 0.1027 - accuracy: 0.9607 - val_loss: 0.0951 - val_accuracy: 0.9672\n",
            "Epoch 14/50\n",
            "76/76 [==============================] - 9s 114ms/step - loss: 0.0977 - accuracy: 0.9645 - val_loss: 0.0787 - val_accuracy: 0.9689\n",
            "Epoch 15/50\n",
            "76/76 [==============================] - 8s 99ms/step - loss: 0.0936 - accuracy: 0.9657 - val_loss: 0.0760 - val_accuracy: 0.9705\n",
            "Epoch 16/50\n",
            "76/76 [==============================] - 8s 105ms/step - loss: 0.0829 - accuracy: 0.9715 - val_loss: 0.0971 - val_accuracy: 0.9541\n",
            "Epoch 17/50\n",
            "76/76 [==============================] - 8s 106ms/step - loss: 0.0779 - accuracy: 0.9719 - val_loss: 0.0859 - val_accuracy: 0.9738\n",
            "Epoch 18/50\n",
            "76/76 [==============================] - 8s 103ms/step - loss: 0.0843 - accuracy: 0.9698 - val_loss: 0.0747 - val_accuracy: 0.9754\n",
            "Epoch 19/50\n",
            "76/76 [==============================] - 8s 112ms/step - loss: 0.0625 - accuracy: 0.9793 - val_loss: 0.0680 - val_accuracy: 0.9721\n",
            "Epoch 20/50\n",
            "76/76 [==============================] - 7s 98ms/step - loss: 0.0655 - accuracy: 0.9785 - val_loss: 0.0622 - val_accuracy: 0.9738\n",
            "Epoch 21/50\n",
            "76/76 [==============================] - 9s 113ms/step - loss: 0.0611 - accuracy: 0.9777 - val_loss: 0.0710 - val_accuracy: 0.9754\n",
            "Epoch 22/50\n",
            "76/76 [==============================] - 8s 99ms/step - loss: 0.0725 - accuracy: 0.9740 - val_loss: 0.0913 - val_accuracy: 0.9557\n",
            "Epoch 23/50\n",
            "76/76 [==============================] - 7s 98ms/step - loss: 0.0699 - accuracy: 0.9752 - val_loss: 0.0568 - val_accuracy: 0.9787\n",
            "Epoch 24/50\n",
            "76/76 [==============================] - 9s 113ms/step - loss: 0.0610 - accuracy: 0.9781 - val_loss: 0.0805 - val_accuracy: 0.9721\n",
            "Epoch 25/50\n",
            "76/76 [==============================] - 8s 99ms/step - loss: 0.0638 - accuracy: 0.9769 - val_loss: 0.0454 - val_accuracy: 0.9803\n",
            "Epoch 26/50\n",
            "76/76 [==============================] - 7s 97ms/step - loss: 0.0611 - accuracy: 0.9769 - val_loss: 0.0605 - val_accuracy: 0.9770\n",
            "Epoch 27/50\n",
            "76/76 [==============================] - 8s 108ms/step - loss: 0.0536 - accuracy: 0.9814 - val_loss: 0.0569 - val_accuracy: 0.9787\n",
            "Epoch 28/50\n",
            "76/76 [==============================] - 8s 104ms/step - loss: 0.0525 - accuracy: 0.9798 - val_loss: 0.0505 - val_accuracy: 0.9820\n",
            "Epoch 29/50\n",
            "76/76 [==============================] - 8s 107ms/step - loss: 0.0501 - accuracy: 0.9814 - val_loss: 0.0368 - val_accuracy: 0.9869\n",
            "Epoch 30/50\n",
            "76/76 [==============================] - 8s 108ms/step - loss: 0.0350 - accuracy: 0.9868 - val_loss: 0.1225 - val_accuracy: 0.9508\n",
            "Epoch 31/50\n",
            "76/76 [==============================] - 7s 97ms/step - loss: 0.0670 - accuracy: 0.9723 - val_loss: 0.0566 - val_accuracy: 0.9754\n",
            "Epoch 32/50\n",
            "76/76 [==============================] - 9s 117ms/step - loss: 0.0623 - accuracy: 0.9773 - val_loss: 0.0677 - val_accuracy: 0.9738\n",
            "Epoch 33/50\n",
            "76/76 [==============================] - 8s 99ms/step - loss: 0.0521 - accuracy: 0.9806 - val_loss: 0.0509 - val_accuracy: 0.9820\n",
            "Epoch 34/50\n",
            "76/76 [==============================] - 8s 112ms/step - loss: 0.0483 - accuracy: 0.9851 - val_loss: 0.0578 - val_accuracy: 0.9787\n"
          ]
        }
      ],
      "source": [
        "from tensorflow.keras.callbacks import EarlyStopping, ModelCheckpoint\n",
        "\n",
        "# Compile the model with the specified optimizer, loss, and metrics\n",
        "opt = tf.keras.optimizers.Adam(learning_rate = 0.001)\n",
        "model.compile(\n",
        "    optimizer = opt,\n",
        "    loss = 'categorical_crossentropy',\n",
        "    metrics = ['accuracy'])\n",
        "\n",
        "# Define callbacks\n",
        "early_stopping = EarlyStopping(\n",
        "    monitor = 'val_accuracy',\n",
        "    patience = 5,\n",
        "    restore_best_weights = True)\n",
        "\n",
        "model_checkpoint = ModelCheckpoint(\n",
        "    'new_drowsiness_model.h5',\n",
        "    monitor = 'val_accuracy',\n",
        "    save_best_only = True)\n",
        "\n",
        "# Train the model with the specified callbacks\n",
        "history = model.fit(\n",
        "    train_generator,\n",
        "    steps_per_epoch = len(train_generator),\n",
        "    validation_data = test_generator,\n",
        "    validation_steps = len(test_generator),\n",
        "    verbose = 1,\n",
        "    epochs = 50,\n",
        "    callbacks = [early_stopping, model_checkpoint]\n",
        ")"
      ]
    },
    {
      "cell_type": "markdown",
      "metadata": {
        "id": "fM_mB_d6IsNH"
      },
      "source": [
        "*Plot Accuracy and Losses*"
      ]
    },
    {
      "cell_type": "code",
      "source": [
        "import matplotlib.pyplot as plt\n",
        "\n",
        "# Extract data from the history object\n",
        "acc = history.history['accuracy']\n",
        "val_acc = history.history['val_accuracy']\n",
        "loss = history.history['loss']\n",
        "val_loss = history.history['val_loss']\n",
        "epochs = range(1, len(acc) + 1)\n",
        "\n",
        "# Plotting side by side\n",
        "fig, axs = plt.subplots(1, 2, figsize=(14, 5))  # 1 row, 2 columns\n",
        "\n",
        "# Plot Training and Validation accuracy\n",
        "axs[0].plot(epochs, acc, 'b', label='Training accuracy')\n",
        "axs[0].plot(epochs, val_acc, 'r', label='Validation accuracy')\n",
        "axs[0].set_title('Training and Validation Accuracy')\n",
        "axs[0].set_xlabel('Epochs')\n",
        "axs[0].set_ylabel('Accuracy')\n",
        "axs[0].legend()\n",
        "\n",
        "# Plot Training and Validation loss\n",
        "axs[1].plot(epochs, loss, 'b', label='Training loss')\n",
        "axs[1].plot(epochs, val_loss, 'r', label='Validation loss')\n",
        "axs[1].set_title('Training and Validation Loss')\n",
        "axs[1].set_xlabel('Epochs')\n",
        "axs[1].set_ylabel('Loss')\n",
        "axs[1].legend()\n",
        "\n",
        "plt.tight_layout()  # Adjust the layout to prevent overlap\n",
        "plt.show()"
      ],
      "metadata": {
        "id": "XKxm5IMH9ULW"
      },
      "execution_count": null,
      "outputs": []
    },
    {
      "cell_type": "code",
      "execution_count": null,
      "metadata": {
        "colab": {
          "base_uri": "https://localhost:8080/",
          "height": 907
        },
        "id": "_2AKjGT8I2-g",
        "outputId": "fb5b82a6-178a-4a32-e8d0-1cfe23031762"
      },
      "outputs": [
        {
          "output_type": "display_data",
          "data": {
            "text/plain": [
              "<Figure size 640x480 with 1 Axes>"
            ],
            "image/png": "[encoded data removed]"
          },
          "metadata": {}
        },
        {
          "output_type": "display_data",
          "data": {
            "text/plain": [
              "<Figure size 640x480 with 1 Axes>"
            ],
            "image/png": "[encoded data removed]"
          },
          "metadata": {}
        }
      ],
      "source": [
        "acc = history.history['accuracy']\n",
        "val_acc = history.history['val_accuracy']\n",
        "loss = history.history['loss']\n",
        "val_loss = history.history['val_loss']\n",
        "epochs = range(1, len(acc) + 1)\n",
        "#Train and validation accuracy\n",
        "plt.plot(epochs, acc, 'b', label='Training accuracy')\n",
        "plt.plot(epochs, val_acc, 'r', label='Validation accuracy')\n",
        "plt.title('Training and Validation accuracy')\n",
        "plt.xlabel('Epochs')  # Label for the x-axis\n",
        "plt.ylabel('Accuracy')  # Label for the y-axis\n",
        "plt.legend()\n",
        "\n",
        "plt.figure()\n",
        "#Train and validation loss\n",
        "plt.plot(epochs, loss, 'b', label='Training loss')\n",
        "plt.plot(epochs, val_loss, 'r', label='Validation loss')\n",
        "plt.title('Training and Validation loss')\n",
        "plt.legend()\n",
        "plt.show()"
      ]
    },
    {
      "cell_type": "markdown",
      "metadata": {
        "id": "pK0mcH2wJ7Ap"
      },
      "source": [
        "*Evaluate Model Accuracy*"
      ]
    },
    {
      "cell_type": "code",
      "execution_count": null,
      "metadata": {
        "colab": {
          "base_uri": "https://localhost:8080/"
        },
        "id": "72uYrOhIKAeF",
        "outputId": "32234036-bd00-4dc9-ce20-25dc2809c584"
      },
      "outputs": [
        {
          "output_type": "stream",
          "name": "stdout",
          "text": [
            "20/20 [==============================] - 1s 51ms/step - loss: 0.0368 - accuracy: 0.9869\n",
            "Validation score is 3.68%\n",
            "Validation accuracy is 98.69%\n"
          ]
        }
      ],
      "source": [
        "score,accuracy = model.evaluate(val_generator, verbose = 1)\n",
        "print(\"Validation score is {:.2f}%\".format(score*100))\n",
        "print(\"Validation accuracy is {:.2f}%\".format(accuracy*100))"
      ]
    },
    {
      "cell_type": "markdown",
      "metadata": {
        "id": "DHkpNUsiKIx9"
      },
      "source": [
        "*Load Saved Model for Testing*"
      ]
    },
    {
      "cell_type": "code",
      "execution_count": null,
      "metadata": {
        "id": "84DlwxqmKNOS"
      },
      "outputs": [],
      "source": [
        "from keras.models import load_model\n",
        "model=load_model('/content/new_drowsiness_model.h5')\n",
        "\n",
        "Classes = ['Drowsy', 'Non_Drowsy']"
      ]
    },
    {
      "cell_type": "markdown",
      "metadata": {
        "id": "b7c51EsQLr4Q"
      },
      "source": [
        "*Classification Report*"
      ]
    },
    {
      "cell_type": "code",
      "execution_count": null,
      "metadata": {
        "colab": {
          "base_uri": "https://localhost:8080/"
        },
        "id": "KUTDivuDKvNR",
        "outputId": "02072a65-efea-4c23-a679-211585331996"
      },
      "outputs": [
        {
          "output_type": "stream",
          "name": "stdout",
          "text": [
            "20/20 [==============================] - 1s 57ms/step\n",
            "[0 0 0 0 0 0 0 0 0 0 0 0 0 0 0 0 0 0 0 0 0 0 0 0 0 0 0 0 0 0 0 0 0 0 0 0 0\n",
            " 0 0 0 0 0 0 0 0 0 0 0 0 0 0 0 0 0 0 0 0 0 0 0 0 0 0 1 0 0 0 0 0 0 0 0 0 0\n",
            " 0 0 0 0 0 0 0 0 0 0 0 0 0 0 0 0 0 0 0 0 0 0 0 0 0 0 0 0 0 0 0 0 0 0 0 0 0\n",
            " 0 0 0 0 0 0 0 0 0 0 0 0 0 0 0 0 0 0 0 0 0 0 0 0 0 0 0 0 0 0 0 0 0 0 0 0 0\n",
            " 0 0 0 0 0 0 0 0 0 0 0 0 0 1 0 0 0 0 0 0 0 0 0 0 0 0 1 0 0 0 0 0 0 0 0 0 0\n",
            " 0 0 0 0 0 0 0 0 0 0 0 0 0 0 0 0 0 0 0 0 0 0 0 0 0 0 0 0 0 0 0 0 0 0 0 0 0\n",
            " 0 0 0 0 0 0 0 0 0 0 0 0 0 0 0 0 0 0 0 0 0 0 0 0 0 0 0 0 0 0 0 0 0 0 0 0 0\n",
            " 0 0 0 0 0 0 0 0 0 0 0 0 0 0 0 0 0 0 0 0 0 0 0 0 0 0 0 0 0 0 0 0 0 0 0 0 0\n",
            " 0 0 0 0 0 0 0 0 0 0 0 0 0 0 1 1 1 1 1 1 1 1 1 1 1 1 1 1 0 1 1 1 1 1 1 1 1\n",
            " 1 1 1 1 1 1 1 1 1 1 1 1 1 1 1 1 1 1 1 1 1 1 1 1 1 1 1 1 1 1 1 1 1 1 1 1 1\n",
            " 1 1 1 1 1 1 1 1 1 1 1 1 1 1 1 1 1 1 1 1 1 1 1 1 1 1 1 1 1 1 1 1 0 0 1 1 0\n",
            " 1 1 1 1 1 1 1 1 1 1 1 1 1 1 0 1 1 1 1 1 1 1 1 1 1 1 1 1 1 1 1 1 1 1 1 1 1\n",
            " 1 1 1 1 1 1 1 1 1 1 1 1 1 1 1 1 1 1 1 1 1 1 1 1 1 1 1 1 1 1 1 1 1 1 1 1 1\n",
            " 1 1 1 1 1 1 1 1 1 1 1 1 1 1 1 1 1 1 1 1 1 1 1 1 1 1 1 1 1 1 1 1 1 1 1 1 1\n",
            " 1 1 1 1 1 1 1 1 1 1 1 1 1 1 1 1 1 1 1 1 1 1 1 1 1 1 1 1 1 1 1 1 1 1 1 1 1\n",
            " 1 1 1 1 1 1 1 1 1 1 1 1 1 1 1 1 1 1 1 1 1 1 1 1 1 1 1 1 1 1 1 1 1 1 1 1 1\n",
            " 1 1 1 1 1 1 1 1 1 1 1 1 1 1 1 1 1 1]\n",
            "              precision    recall  f1-score   support\n",
            "\n",
            "      Drowsy       0.98      0.99      0.99       310\n",
            "  Non_Drowsy       0.99      0.98      0.99       300\n",
            "\n",
            "    accuracy                           0.99       610\n",
            "   macro avg       0.99      0.99      0.99       610\n",
            "weighted avg       0.99      0.99      0.99       610\n",
            "\n"
          ]
        }
      ],
      "source": [
        "from sklearn.metrics import classification_report,confusion_matrix\n",
        "y_test = test_generator.classes\n",
        "\n",
        "# predicting our model with test dataset i.e. unseen dataset\n",
        "pred = model.predict(test_generator, test_samples//batch_size+1,verbose=1,).argmax(axis=1)\n",
        "\n",
        "#print(y_test)\n",
        "print(pred)\n",
        "\n",
        "#Classification report of every label\n",
        "print(classification_report(y_test, pred, target_names = Classes))"
      ]
    },
    {
      "cell_type": "markdown",
      "metadata": {
        "id": "mqKBN8CVMI-Y"
      },
      "source": [
        "*Prediction Accuracy*"
      ]
    },
    {
      "cell_type": "code",
      "execution_count": null,
      "metadata": {
        "colab": {
          "base_uri": "https://localhost:8080/"
        },
        "id": "yZz1jgf3MMVg",
        "outputId": "4d213524-d059-4778-cef8-4070dc7bbbeb"
      },
      "outputs": [
        {
          "output_type": "stream",
          "name": "stdout",
          "text": [
            "Total number of test cases 610\n",
            "Number of correct predictions 602\n",
            "Number of incorrect predictions 8\n"
          ]
        }
      ],
      "source": [
        "correct = 0\n",
        "incorrect = 0\n",
        "for i in range(len(y_test)):\n",
        "\n",
        "    #print(\"Test Sample is: \", y_test[i], \"while predicted sample is: \", pred[i])\n",
        "\n",
        "    if y_test[i] != pred[i]:\n",
        "        incorrect += 1\n",
        "    else:\n",
        "        correct += 1\n",
        "\n",
        "print('Total number of test cases', ((len(y_test))))\n",
        "print('Number of correct predictions', correct)\n",
        "print('Number of incorrect predictions', incorrect)"
      ]
    },
    {
      "cell_type": "markdown",
      "metadata": {
        "id": "h9tOLmPYMSil"
      },
      "source": [
        "*Plot Confusion Matrix*"
      ]
    },
    {
      "cell_type": "code",
      "execution_count": null,
      "metadata": {
        "colab": {
          "base_uri": "https://localhost:8080/",
          "height": 487
        },
        "id": "4mqL_gOSMXcu",
        "outputId": "627b9c5b-f286-4125-a12c-a9aac13f3ae0"
      },
      "outputs": [
        {
          "output_type": "display_data",
          "data": {
            "text/plain": [
              "<Figure size 600x500 with 1 Axes>"
            ],
            "image/png": "[encoded data removed]"
          },
          "metadata": {}
        }
      ],
      "source": [
        "import pandas as pd\n",
        "import seaborn as sn\n",
        "\n",
        "# Create a confusion matrix\n",
        "conf_mat = confusion_matrix(y_test, pred)\n",
        "\n",
        "# Create a DataFrame from the confusion matrix\n",
        "conf_df = pd.DataFrame(conf_mat, columns = Classes, index = Classes)\n",
        "\n",
        "# Plot the confusion matrix using seaborn with annotated actual and predicted labels\n",
        "plt.figure(figsize = (6, 5))\n",
        "plt.title('Confusion Matrix of Drowsiness Detection')\n",
        "sn.heatmap(conf_df, fmt = \"d\", cmap = \"Blues\", annot = True, cbar = False, linewidths = .5)\n",
        "\n",
        "# Add x and y axis labels\n",
        "plt.xlabel('Predicted Labels')\n",
        "plt.ylabel('Actual Labels')\n",
        "\n",
        "plt.show()"
      ]
    },
    {
      "cell_type": "markdown",
      "metadata": {
        "id": "kgOjLlwuNC0i"
      },
      "source": [
        "*Test Single Image*"
      ]
    },
    {
      "cell_type": "code",
      "execution_count": null,
      "metadata": {
        "colab": {
          "base_uri": "https://localhost:8080/",
          "height": 817
        },
        "id": "wZGh6TxQNGzh",
        "outputId": "c2e67bed-2ed5-4da1-cf26-8bf6dba4cf6d"
      },
      "outputs": [
        {
          "output_type": "display_data",
          "data": {
            "text/plain": [
              "<IPython.core.display.HTML object>"
            ],
            "text/html": [
              "\n",
              "     <input type=\"file\" id=\"files-006de42b-d8c1-4a87-9f57-2bbbb147a130\" name=\"files[]\" multiple disabled\n",
              "        style=\"border:none\" />\n",
              "     <output id=\"result-006de42b-d8c1-4a87-9f57-2bbbb147a130\">\n",
              "      Upload widget is only available when the cell has been executed in the\n",
              "      current browser session. Please rerun this cell to enable.\n",
              "      </output>\n",
              "      <script>// Copyright 2017 Google LLC\n",
              "//\n",
              "// Licensed under the Apache License, Version 2.0 (the \"License\");\n",
              "// you may not use this file except in compliance with the License.\n",
              "// You may obtain a copy of the License at\n",
              "//\n",
              "//      http://www.apache.org/licenses/LICENSE-2.0\n",
              "//\n",
              "// Unless required by applicable law or agreed to in writing, software\n",
              "// distributed under the License is distributed on an \"AS IS\" BASIS,\n",
              "// WITHOUT WARRANTIES OR CONDITIONS OF ANY KIND, either express or implied.\n",
              "// See the License for the specific language governing permissions and\n",
              "// limitations under the License.\n",
              "\n",
              "/**\n",
              " * @fileoverview Helpers for google.colab Python module.\n",
              " */\n",
              "(function(scope) {\n",
              "function span(text, styleAttributes = {}) {\n",
              "  const element = document.createElement('span');\n",
              "  element.textContent = text;\n",
              "  for (const key of Object.keys(styleAttributes)) {\n",
              "    element.style[key] = styleAttributes[key];\n",
              "  }\n",
              "  return element;\n",
              "}\n",
              "\n",
              "// Max number of bytes which will be uploaded at a time.\n",
              "const MAX_PAYLOAD_SIZE = 100 * 1024;\n",
              "\n",
              "function _uploadFiles(inputId, outputId) {\n",
              "  const steps = uploadFilesStep(inputId, outputId);\n",
              "  const outputElement = document.getElementById(outputId);\n",
              "  // Cache steps on the outputElement to make it available for the next call\n",
              "  // to uploadFilesContinue from Python.\n",
              "  outputElement.steps = steps;\n",
              "\n",
              "  return _uploadFilesContinue(outputId);\n",
              "}\n",
              "\n",
              "// This is roughly an async generator (not supported in the browser yet),\n",
              "// where there are multiple asynchronous steps and the Python side is going\n",
              "// to poll for completion of each step.\n",
              "// This uses a Promise to block the python side on completion of each step,\n",
              "// then passes the result of the previous step as the input to the next step.\n",
              "function _uploadFilesContinue(outputId) {\n",
              "  const outputElement = document.getElementById(outputId);\n",
              "  const steps = outputElement.steps;\n",
              "\n",
              "  const next = steps.next(outputElement.lastPromiseValue);\n",
              "  return Promise.resolve(next.value.promise).then((value) => {\n",
              "    // Cache the last promise value to make it available to the next\n",
              "    // step of the generator.\n",
              "    outputElement.lastPromiseValue = value;\n",
              "    return next.value.response;\n",
              "  });\n",
              "}\n",
              "\n",
              "/**\n",
              " * Generator function which is called between each async step of the upload\n",
              " * process.\n",
              " * @param {string} inputId Element ID of the input file picker element.\n",
              " * @param {string} outputId Element ID of the output display.\n",
              " * @return {!Iterable<!Object>} Iterable of next steps.\n",
              " */\n",
              "function* uploadFilesStep(inputId, outputId) {\n",
              "  const inputElement = document.getElementById(inputId);\n",
              "  inputElement.disabled = false;\n",
              "\n",
              "  const outputElement = document.getElementById(outputId);\n",
              "  outputElement.innerHTML = '';\n",
              "\n",
              "  const pickedPromise = new Promise((resolve) => {\n",
              "    inputElement.addEventListener('change', (e) => {\n",
              "      resolve(e.target.files);\n",
              "    });\n",
              "  });\n",
              "\n",
              "  const cancel = document.createElement('button');\n",
              "  inputElement.parentElement.appendChild(cancel);\n",
              "  cancel.textContent = 'Cancel upload';\n",
              "  const cancelPromise = new Promise((resolve) => {\n",
              "    cancel.onclick = () => {\n",
              "      resolve(null);\n",
              "    };\n",
              "  });\n",
              "\n",
              "  // Wait for the user to pick the files.\n",
              "  const files = yield {\n",
              "    promise: Promise.race([pickedPromise, cancelPromise]),\n",
              "    response: {\n",
              "      action: 'starting',\n",
              "    }\n",
              "  };\n",
              "\n",
              "  cancel.remove();\n",
              "\n",
              "  // Disable the input element since further picks are not allowed.\n",
              "  inputElement.disabled = true;\n",
              "\n",
              "  if (!files) {\n",
              "    return {\n",
              "      response: {\n",
              "        action: 'complete',\n",
              "      }\n",
              "    };\n",
              "  }\n",
              "\n",
              "  for (const file of files) {\n",
              "    const li = document.createElement('li');\n",
              "    li.append(span(file.name, {fontWeight: 'bold'}));\n",
              "    li.append(span(\n",
              "        `(${file.type || 'n/a'}) - ${file.size} bytes, ` +\n",
              "        `last modified: ${\n",
              "            file.lastModifiedDate ? file.lastModifiedDate.toLocaleDateString() :\n",
              "                                    'n/a'} - `));\n",
              "    const percent = span('0% done');\n",
              "    li.appendChild(percent);\n",
              "\n",
              "    outputElement.appendChild(li);\n",
              "\n",
              "    const fileDataPromise = new Promise((resolve) => {\n",
              "      const reader = new FileReader();\n",
              "      reader.onload = (e) => {\n",
              "        resolve(e.target.result);\n",
              "      };\n",
              "      reader.readAsArrayBuffer(file);\n",
              "    });\n",
              "    // Wait for the data to be ready.\n",
              "    let fileData = yield {\n",
              "      promise: fileDataPromise,\n",
              "      response: {\n",
              "        action: 'continue',\n",
              "      }\n",
              "    };\n",
              "\n",
              "    // Use a chunked sending to avoid message size limits. See b/62115660.\n",
              "    let position = 0;\n",
              "    do {\n",
              "      const length = Math.min(fileData.byteLength - position, MAX_PAYLOAD_SIZE);\n",
              "      const chunk = new Uint8Array(fileData, position, length);\n",
              "      position += length;\n",
              "\n",
              "      const base64 = btoa(String.fromCharCode.apply(null, chunk));\n",
              "      yield {\n",
              "        response: {\n",
              "          action: 'append',\n",
              "          file: file.name,\n",
              "          data: base64,\n",
              "        },\n",
              "      };\n",
              "\n",
              "      let percentDone = fileData.byteLength === 0 ?\n",
              "          100 :\n",
              "          Math.round((position / fileData.byteLength) * 100);\n",
              "      percent.textContent = `${percentDone}% done`;\n",
              "\n",
              "    } while (position < fileData.byteLength);\n",
              "  }\n",
              "\n",
              "  // All done.\n",
              "  yield {\n",
              "    response: {\n",
              "      action: 'complete',\n",
              "    }\n",
              "  };\n",
              "}\n",
              "\n",
              "scope.google = scope.google || {};\n",
              "scope.google.colab = scope.google.colab || {};\n",
              "scope.google.colab._files = {\n",
              "  _uploadFiles,\n",
              "  _uploadFilesContinue,\n",
              "};\n",
              "})(self);\n",
              "</script> "
            ]
          },
          "metadata": {}
        },
        {
          "output_type": "stream",
          "name": "stdout",
          "text": [
            "Saving s0001_00039_0_0_0_0_0_01.png to s0001_00039_0_0_0_0_0_01.png\n"
          ]
        },
        {
          "output_type": "error",
          "ename": "ValueError",
          "evalue": "ignored",
          "traceback": [
            "\u001b[0;31m---------------------------------------------------------------------------\u001b[0m",
            "\u001b[0;31mValueError\u001b[0m                                Traceback (most recent call last)",
            "\u001b[0;32m<ipython-input-33-592f3ac4e13e>\u001b[0m in \u001b[0;36m<cell line: 38>\u001b[0;34m()\u001b[0m\n\u001b[1;32m     36\u001b[0m \u001b[0;31m# Ask the user to choose a file\u001b[0m\u001b[0;34m\u001b[0m\u001b[0;34m\u001b[0m\u001b[0m\n\u001b[1;32m     37\u001b[0m \u001b[0mfile_path\u001b[0m \u001b[0;34m=\u001b[0m \u001b[0mlist\u001b[0m\u001b[0;34m(\u001b[0m\u001b[0muploaded\u001b[0m\u001b[0;34m.\u001b[0m\u001b[0mkeys\u001b[0m\u001b[0;34m(\u001b[0m\u001b[0;34m)\u001b[0m\u001b[0;34m)\u001b[0m\u001b[0;34m[\u001b[0m\u001b[0;36m0\u001b[0m\u001b[0;34m]\u001b[0m  \u001b[0;31m# Get the first uploaded file\u001b[0m\u001b[0;34m\u001b[0m\u001b[0;34m\u001b[0m\u001b[0m\n\u001b[0;32m---> 38\u001b[0;31m \u001b[0mclassify_image\u001b[0m\u001b[0;34m(\u001b[0m\u001b[0mfile_path\u001b[0m\u001b[0;34m)\u001b[0m\u001b[0;34m\u001b[0m\u001b[0;34m\u001b[0m\u001b[0m\n\u001b[0m",
            "\u001b[0;32m<ipython-input-33-592f3ac4e13e>\u001b[0m in \u001b[0;36mclassify_image\u001b[0;34m(file_path)\u001b[0m\n\u001b[1;32m     19\u001b[0m     \u001b[0mtest_image\u001b[0m \u001b[0;34m=\u001b[0m \u001b[0mnp\u001b[0m\u001b[0;34m.\u001b[0m\u001b[0mexpand_dims\u001b[0m\u001b[0;34m(\u001b[0m\u001b[0mnp\u001b[0m\u001b[0;34m.\u001b[0m\u001b[0marray\u001b[0m\u001b[0;34m(\u001b[0m\u001b[0mtest_image\u001b[0m\u001b[0;34m)\u001b[0m\u001b[0;34m,\u001b[0m \u001b[0maxis\u001b[0m\u001b[0;34m=\u001b[0m\u001b[0;36m0\u001b[0m\u001b[0;34m)\u001b[0m\u001b[0;34m\u001b[0m\u001b[0;34m\u001b[0m\u001b[0m\n\u001b[1;32m     20\u001b[0m \u001b[0;34m\u001b[0m\u001b[0m\n\u001b[0;32m---> 21\u001b[0;31m     \u001b[0mresult\u001b[0m \u001b[0;34m=\u001b[0m \u001b[0mmodel\u001b[0m\u001b[0;34m.\u001b[0m\u001b[0mpredict\u001b[0m\u001b[0;34m(\u001b[0m\u001b[0mtest_image\u001b[0m\u001b[0;34m)\u001b[0m\u001b[0;34m\u001b[0m\u001b[0;34m\u001b[0m\u001b[0m\n\u001b[0m\u001b[1;32m     22\u001b[0m     \u001b[0mpredicted_class\u001b[0m \u001b[0;34m=\u001b[0m \u001b[0mnp\u001b[0m\u001b[0;34m.\u001b[0m\u001b[0margmax\u001b[0m\u001b[0;34m(\u001b[0m\u001b[0mresult\u001b[0m\u001b[0;34m)\u001b[0m\u001b[0;34m\u001b[0m\u001b[0;34m\u001b[0m\u001b[0m\n\u001b[1;32m     23\u001b[0m     \u001b[0msign\u001b[0m \u001b[0;34m=\u001b[0m \u001b[0mClasses\u001b[0m\u001b[0;34m[\u001b[0m\u001b[0mpredicted_class\u001b[0m\u001b[0;34m]\u001b[0m\u001b[0;34m\u001b[0m\u001b[0;34m\u001b[0m\u001b[0m\n",
            "\u001b[0;32m/usr/local/lib/python3.10/dist-packages/keras/src/utils/traceback_utils.py\u001b[0m in \u001b[0;36merror_handler\u001b[0;34m(*args, **kwargs)\u001b[0m\n\u001b[1;32m     68\u001b[0m             \u001b[0;31m# To get the full stack trace, call:\u001b[0m\u001b[0;34m\u001b[0m\u001b[0;34m\u001b[0m\u001b[0m\n\u001b[1;32m     69\u001b[0m             \u001b[0;31m# `tf.debugging.disable_traceback_filtering()`\u001b[0m\u001b[0;34m\u001b[0m\u001b[0;34m\u001b[0m\u001b[0m\n\u001b[0;32m---> 70\u001b[0;31m             \u001b[0;32mraise\u001b[0m \u001b[0me\u001b[0m\u001b[0;34m.\u001b[0m\u001b[0mwith_traceback\u001b[0m\u001b[0;34m(\u001b[0m\u001b[0mfiltered_tb\u001b[0m\u001b[0;34m)\u001b[0m \u001b[0;32mfrom\u001b[0m \u001b[0;32mNone\u001b[0m\u001b[0;34m\u001b[0m\u001b[0;34m\u001b[0m\u001b[0m\n\u001b[0m\u001b[1;32m     71\u001b[0m         \u001b[0;32mfinally\u001b[0m\u001b[0;34m:\u001b[0m\u001b[0;34m\u001b[0m\u001b[0;34m\u001b[0m\u001b[0m\n\u001b[1;32m     72\u001b[0m             \u001b[0;32mdel\u001b[0m \u001b[0mfiltered_tb\u001b[0m\u001b[0;34m\u001b[0m\u001b[0;34m\u001b[0m\u001b[0m\n",
            "\u001b[0;32m/usr/local/lib/python3.10/dist-packages/keras/src/engine/training.py\u001b[0m in \u001b[0;36mtf__predict_function\u001b[0;34m(iterator)\u001b[0m\n\u001b[1;32m     13\u001b[0m                 \u001b[0;32mtry\u001b[0m\u001b[0;34m:\u001b[0m\u001b[0;34m\u001b[0m\u001b[0;34m\u001b[0m\u001b[0m\n\u001b[1;32m     14\u001b[0m                     \u001b[0mdo_return\u001b[0m \u001b[0;34m=\u001b[0m \u001b[0;32mTrue\u001b[0m\u001b[0;34m\u001b[0m\u001b[0;34m\u001b[0m\u001b[0m\n\u001b[0;32m---> 15\u001b[0;31m                     \u001b[0mretval_\u001b[0m \u001b[0;34m=\u001b[0m \u001b[0mag__\u001b[0m\u001b[0;34m.\u001b[0m\u001b[0mconverted_call\u001b[0m\u001b[0;34m(\u001b[0m\u001b[0mag__\u001b[0m\u001b[0;34m.\u001b[0m\u001b[0mld\u001b[0m\u001b[0;34m(\u001b[0m\u001b[0mstep_function\u001b[0m\u001b[0;34m)\u001b[0m\u001b[0;34m,\u001b[0m \u001b[0;34m(\u001b[0m\u001b[0mag__\u001b[0m\u001b[0;34m.\u001b[0m\u001b[0mld\u001b[0m\u001b[0;34m(\u001b[0m\u001b[0mself\u001b[0m\u001b[0;34m)\u001b[0m\u001b[0;34m,\u001b[0m \u001b[0mag__\u001b[0m\u001b[0;34m.\u001b[0m\u001b[0mld\u001b[0m\u001b[0;34m(\u001b[0m\u001b[0miterator\u001b[0m\u001b[0;34m)\u001b[0m\u001b[0;34m)\u001b[0m\u001b[0;34m,\u001b[0m \u001b[0;32mNone\u001b[0m\u001b[0;34m,\u001b[0m \u001b[0mfscope\u001b[0m\u001b[0;34m)\u001b[0m\u001b[0;34m\u001b[0m\u001b[0;34m\u001b[0m\u001b[0m\n\u001b[0m\u001b[1;32m     16\u001b[0m                 \u001b[0;32mexcept\u001b[0m\u001b[0;34m:\u001b[0m\u001b[0;34m\u001b[0m\u001b[0;34m\u001b[0m\u001b[0m\n\u001b[1;32m     17\u001b[0m                     \u001b[0mdo_return\u001b[0m \u001b[0;34m=\u001b[0m \u001b[0;32mFalse\u001b[0m\u001b[0;34m\u001b[0m\u001b[0;34m\u001b[0m\u001b[0m\n",
            "\u001b[0;31mValueError\u001b[0m: in user code:\n\n    File \"/usr/local/lib/python3.10/dist-packages/keras/src/engine/training.py\", line 2440, in predict_function  *\n        return step_function(self, iterator)\n    File \"/usr/local/lib/python3.10/dist-packages/keras/src/engine/training.py\", line 2425, in step_function  **\n        outputs = model.distribute_strategy.run(run_step, args=(data,))\n    File \"/usr/local/lib/python3.10/dist-packages/keras/src/engine/training.py\", line 2413, in run_step  **\n        outputs = model.predict_step(data)\n    File \"/usr/local/lib/python3.10/dist-packages/keras/src/engine/training.py\", line 2381, in predict_step\n        return self(x, training=False)\n    File \"/usr/local/lib/python3.10/dist-packages/keras/src/utils/traceback_utils.py\", line 70, in error_handler\n        raise e.with_traceback(filtered_tb) from None\n    File \"/usr/local/lib/python3.10/dist-packages/keras/src/engine/input_spec.py\", line 253, in assert_input_compatibility\n        raise ValueError(\n\n    ValueError: Exception encountered when calling layer 'sequential' (type Sequential).\n    \n    Input 0 of layer \"conv2d\" is incompatible with the layer: expected min_ndim=4, found ndim=3. Full shape received: (None, 50, 50)\n    \n    Call arguments received by layer 'sequential' (type Sequential):\n      • inputs=tf.Tensor(shape=(None, 50, 50), dtype=uint8)\n      • training=False\n      • mask=None\n"
          ]
        }
      ],
      "source": [
        "from google.colab import files\n",
        "from keras.models import load_model\n",
        "from PIL import Image\n",
        "import numpy as np\n",
        "from IPython.display import display, Image as IPImage, Audio\n",
        "\n",
        "# Upload the Keras model file (replace 'best_drowsiness_model.h5' with your actual model file)\n",
        "uploaded = files.upload()\n",
        "\n",
        "# Load the model\n",
        "model = load_model('/content/new_drowsiness_model.h5')  # Replace 'best_drowsiness_model.h5' with your actual model file\n",
        "\n",
        "# Define your classes (replace 'Classes' with your actual class labels)\n",
        "Classes = ['Drowsy', 'Non_Drowsy']\n",
        "\n",
        "def classify_image(file_path):\n",
        "    test_image = Image.open(file_path)\n",
        "    test_image = test_image.resize((50, 50))\n",
        "    test_image = np.expand_dims(np.array(test_image), axis=0)\n",
        "\n",
        "    result = model.predict(test_image)\n",
        "    predicted_class = np.argmax(result)\n",
        "    sign = Classes[predicted_class]\n",
        "\n",
        "    print(f'The Predicted class is: {predicted_class}')\n",
        "    print(f'The Predicted sign is: {sign}')\n",
        "\n",
        "    # Display the image\n",
        "    display(IPImage(filename=file_path))\n",
        "\n",
        "    # Check if drowsy is detected and play an alarm sound\n",
        "    if sign == 'Drowsy':\n",
        "        alarm_sound_url = 'https://www.soundhelix.com/examples/mp3/SoundHelix-Song-1.mp3'  # Replace with your alarm sound URL\n",
        "        display(Audio(url=alarm_sound_url, autoplay=True))\n",
        "\n",
        "# Ask the user to choose a file\n",
        "file_path = list(uploaded.keys())[0]  # Get the first uploaded file\n",
        "classify_image(file_path)"
      ]
    }
  ],
  "metadata": {
    "accelerator": "GPU",
    "colab": {
      "provenance": [],
      "gpuType": "T4"
    },
    "kernelspec": {
      "display_name": "Python 3",
      "name": "python3"
    },
    "language_info": {
      "name": "python"
    }
  },
  "nbformat": 4,
  "nbformat_minor": 0
}